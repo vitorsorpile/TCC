{
 "cells": [
  {
   "cell_type": "code",
   "execution_count": 1,
   "metadata": {},
   "outputs": [],
   "source": [
    "import pandas as pd\n",
    "import matplotlib.pyplot as plt\n",
    "import seaborn as sns\n",
    "from pathlib import Path\n",
    "from statistics import mean, stdev"
   ]
  },
  {
   "cell_type": "code",
   "execution_count": 2,
   "metadata": {},
   "outputs": [],
   "source": [
    "results_to_process_dir = Path.cwd() / \"results_to_process\""
   ]
  },
  {
   "cell_type": "code",
   "execution_count": null,
   "metadata": {},
   "outputs": [],
   "source": [
    "# data = pd.DataFrame()\n",
    "datasets = []\n",
    "for file in results_to_process_dir.iterdir():\n",
    "    print(file)\n",
    "    algorithm = file.name.split(\"_\")[0]\n",
    "    dataset = pd.read_csv(file, index_col=False)\n",
    "    dataset[\"algorithm\"] = algorithm\n",
    "    # data = data[data[\"features_domain\"] == \"both\"]\n",
    "    # print(data.head(5))\n",
    "    # print(dataset.head())\n",
    "    datasets.append(dataset)\n",
    "\n",
    "    # data = pd.concat([data, dataset])\n",
    "    # data_groups = [data[i : i + 5] for i in range(0, len(data), 5)]\n",
    "    # # print(data_groups)\n",
    "    # # print(data)\n",
    "\n",
    "    # labels = [group[\"sensor_position\"].iloc[0] for group in data_groups]\n",
    "    # data_y = [group[\"recall\"] for group in data_groups]\n",
    "    # y = [mean(group[\"recall\"]) for group in data_groups]\n",
    "    # y_err = [stdev(group[\"recall\"]) for group in data_groups]\n",
    "\n",
    "    # print(y)\n",
    "    # print(labels)\n",
    "    # print(y)\n",
    "    # print(y_err)\n",
    "\n",
    "    # print(mean(data_groups[0][\"recall\"]))\n",
    "    # print(data[1])\n",
    "data = pd.concat(datasets)\n",
    "# data = data.rename({\"full\"})"
   ]
  },
  {
   "cell_type": "code",
   "execution_count": null,
   "metadata": {},
   "outputs": [],
   "source": [
    "# plt.figure(figsize=(15, 8))\n",
    "\n",
    "# bpt = sns.boxplot(\n",
    "#     x=\"algorithm\",\n",
    "#     y=\"recall\",\n",
    "#     data=data[data[\"features_domain\"] == \"both\"],\n",
    "#     # hue=\"algorithm\",\n",
    "# )\n",
    "# bpt.set_ylim(0, 1)\n",
    "# print(data[data[\"features_domain\"] == \"both\"].size / (3 * 3 * 6))"
   ]
  },
  {
   "cell_type": "code",
   "execution_count": null,
   "metadata": {},
   "outputs": [],
   "source": [
    "labels_map = {\n",
    "    \"Ankle\": \"Tornozelo\",\n",
    "    \"Belt\": \"Cintura\",\n",
    "    \"full\": \"Todos\",\n",
    "    \"Neck\": \"Pescoço\",\n",
    "    \"RightPocket\": \"Bolso\",\n",
    "    \"Wrist\": \"Punho\",\n",
    "}\n",
    "\n",
    "metrics_map = {\n",
    "    \"recall\": \"Recall\",\n",
    "    \"accuracy\": \"Acurácia\",\n",
    "    \"precision\": \"Precisão\",\n",
    "    \"f1\": \"f1-score\",\n",
    "}\n",
    "\n",
    "features_map = {\n",
    "    \"both\": \"Ambos\",\n",
    "    \"time\": \"Tempo\",\n",
    "    \"frequency\": \"Frequência\",\n",
    "}\n",
    "\n",
    "data[\"sensor_position\"] = data[\"sensor_position\"].map(labels_map)\n",
    "data[\"features_domain\"] = data[\"features_domain\"].map(features_map)\n",
    "data = data.rename(columns={\"algorithm\": \"Algoritmo\"})\n",
    "\n",
    "metrics = [\"recall\", \"accuracy\", \"precision\", \"f1\"]\n",
    "features = [\"time\", \"frequency\", \"both\"]"
   ]
  },
  {
   "cell_type": "code",
   "execution_count": null,
   "metadata": {},
   "outputs": [],
   "source": [
    "for metric in metrics:\n",
    "    plot = sns.catplot(\n",
    "        data,\n",
    "        kind=\"bar\",\n",
    "        errorbar=\"sd\",\n",
    "        capsize=0.3,\n",
    "        x=\"sensor_position\",\n",
    "        y=metric,\n",
    "        hue=\"Algoritmo\",\n",
    "        col=\"features_domain\",\n",
    "        col_wrap=2,\n",
    "        # sharex=False,\n",
    "    )\n",
    "\n",
    "    plot.set(ylim=(0, 1))\n",
    "    plot.set_axis_labels(\"Posição do sensor\", metrics_map[metric])\n",
    "    plot.set_titles(\"{col_name}\")\n",
    "    sns.move_legend(plot, \"upper left\", bbox_to_anchor=(0.55, 0.45))\n",
    "\n",
    "    for ax in plot.axes:\n",
    "        ax.tick_params(labelbottom=True)\n",
    "\n",
    "    plt.subplots_adjust(bottom=0.1, left=0.06, hspace=0.2)\n",
    "    # plot.set_xlabel(\"Posição do sensor\")\n",
    "    # plot.despine(left=True)\n",
    "    # plot.set_ylabel(metrics_map[metric])"
   ]
  },
  {
   "cell_type": "code",
   "execution_count": null,
   "metadata": {},
   "outputs": [],
   "source": [
    "for metric in metrics:\n",
    "    for feature in features:\n",
    "\n",
    "        plt.figure(figsize=(12, 8))\n",
    "        bar_plot = sns.barplot(\n",
    "            data[data[\"features_domain\"] == feature],\n",
    "            x=\"sensor_position\",\n",
    "            y=metric,\n",
    "            hue=\"Algoritmo\",\n",
    "            order=[\"Tornozelo\", \"Bolso\", \"Cintura\", \"Punho\", \"Pescoço\", \"Todos\"],\n",
    "            errorbar=\"sd\",\n",
    "            capsize=0.3,\n",
    "        )\n",
    "\n",
    "        bar_plot.set_ylim(0, 1)\n",
    "        bar_plot.set_xlabel(\"Posição do sensor\")\n",
    "        bar_plot.set_ylabel(metrics_map[metric])\n",
    "\n",
    "        sns.move_legend(bar_plot, \"upper left\", bbox_to_anchor=(1, 0.6))\n",
    "        plt.savefig(f\"plots/errorbar_{metric}_{feature}.png\")"
   ]
  },
  {
   "cell_type": "code",
   "execution_count": null,
   "metadata": {},
   "outputs": [],
   "source": []
  },
  {
   "cell_type": "code",
   "execution_count": null,
   "metadata": {},
   "outputs": [],
   "source": [
    "# Choose best model between folds\n",
    "    best_params.append(\n",
    "            {\"params\": classifier.best_params_, \"recall\": fold_metrics[\"recall\"]}\n",
    "        )\n",
    "    sorted_by_recall = sorted(best_params, key=lambda d: d[\"recall\"], reverse=True)\n",
    "    print(sorted_by_recall)\n",
    "    params = [str(d[\"params\"]) for d in sorted_by_recall]\n",
    "    print(params)\n",
    "    chosen_params = multimode(params)"
   ]
  }
 ],
 "metadata": {
  "kernelspec": {
   "display_name": "Python 3",
   "language": "python",
   "name": "python3"
  },
  "language_info": {
   "codemirror_mode": {
    "name": "ipython",
    "version": 3
   },
   "file_extension": ".py",
   "mimetype": "text/x-python",
   "name": "python",
   "nbconvert_exporter": "python",
   "pygments_lexer": "ipython3",
   "version": "3.10.11"
  }
 },
 "nbformat": 4,
 "nbformat_minor": 2
}
